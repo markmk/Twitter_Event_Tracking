{
 "cells": [
  {
   "cell_type": "markdown",
   "metadata": {},
   "source": [
    "To run below code, you need to following python packages installed:\n",
    "\n",
    "- tweepy\n",
    "- kafka-python\n",
    "\n",
    "install them with a package manager of your choice. \n",
    "We used pip3 and anaconda.\n",
    "\n",
    "To run this code, you also need twitter developer access. See https://apps.twitter.com. After creating an app, add the consumer key, consumer secret, access token, and access token secret in a .json file named \"credentials.json\". The json structure we use is:\n",
    "\n",
    "```bash\n",
    "{ \n",
    "    \"Credentials\":\n",
    "       { \n",
    "          \"ACCESS_TOKEN\":\"\",\n",
    "          \"ACCESS_TOKEN_SECRET\":\"\",\n",
    "          \"CONSUMER_KEY\":\"\",\n",
    "          \"CONSUMER_SECRET\":\"\"\n",
    "       }\n",
    "    \n",
    " }\n",
    "```\n",
    " Now you can run the code in this notebook."
   ]
  },
  {
   "cell_type": "markdown",
   "metadata": {},
   "source": [
    "First we need to import you credentials for the Tweepy authentication"
   ]
  },
  {
   "cell_type": "code",
   "execution_count": 1,
   "metadata": {},
   "outputs": [],
   "source": [
    "import json\n",
    "with open('credentials.json') as f:\n",
    "    data = json.load(f)\n",
    "    cred = data[\"Credentials\"]\n",
    "    access_token = cred['ACCESS_TOKEN']\n",
    "    access_token_secret = cred['ACCESS_TOKEN_SECRET']\n",
    "    consumer_key = cred['CONSUMER_KEY']\n",
    "    consumer_secret = cred['CONSUMER_SECRET']\n"
   ]
  },
  {
   "cell_type": "markdown",
   "metadata": {},
   "source": [
    "Now we can start up the kafka broker. For this we need a kafka server and a zookeeper running. We started them with the following bash commands:\n",
    "\n",
    "```bash\n",
    "    $KAFKA_HOME/bin/zookeeper-server-start.sh $KAFKA_HOME/config/zookeeper.properties\n",
    "    $KAFKA_HOME/bin/kafka-server-start.sh $KAFKA_HOME/config/server.properties \n",
    "```\n",
    "\n",
    "Create a topic called \"tweets\"\n",
    "```bash\n",
    "    $KAFKA_HOME/bin/kafka-topics.sh --create --zookeeper localhost:2181 --replication-factor 1 --partitions 1 --topic tweets\n",
    "```\n",
    "\n",
    "Now we define the kafka configuration, connection procedure, and publish function."
   ]
  },
  {
   "cell_type": "code",
   "execution_count": 2,
   "metadata": {},
   "outputs": [],
   "source": [
    "import uuid\n",
    "from kafka import KafkaProducer\n",
    "\n",
    "#Kafka conf\n",
    "server = 'localhost:9092'\n",
    "topic_name = \"tweets\"\n",
    "\n",
    "def publish_message(producer_instance, topic_name, key, value):\n",
    "    try:\n",
    "        key_bytes = bytes(key, encoding='utf-8')\n",
    "        value_bytes = bytes(value, encoding='utf-8')\n",
    "        producer_instance.send(topic_name, key=key_bytes, value=value_bytes)\n",
    "        producer_instance.flush()\n",
    "        #print('Message published successfully.')\n",
    "    except Exception as ex:\n",
    "        print('Exception in publishing message')\n",
    "        print(str(ex))\n",
    "\n",
    "\n",
    "def connect_kafka_producer(server):\n",
    "    _producer = None\n",
    "    try:\n",
    "        _producer = KafkaProducer(bootstrap_servers=[server], api_version=(0, 10))\n",
    "    except Exception as ex:\n",
    "        print('Exception while connecting Kafka')\n",
    "        print(str(ex))\n",
    "    finally:\n",
    "        return _producer\n",
    "kafka_producer = connect_kafka_producer(server)"
   ]
  },
  {
   "cell_type": "markdown",
   "metadata": {},
   "source": [
    "Now run the producer. This producer connects to Twitter through Tweepy and posts the tweets as messages to Kafka. The following cell will run indefinetly, interrupt the kernel to stop. "
   ]
  },
  {
   "cell_type": "code",
   "execution_count": 4,
   "metadata": {},
   "outputs": [
    {
     "name": "stdout",
     "output_type": "stream",
     "text": [
      "Start streaming.\n",
      "Stopped.\n",
      "Done.\n"
     ]
    }
   ],
   "source": [
    "import sys\n",
    "from tweepy import OAuthHandler, API, Stream\n",
    "from tweepy.streaming import StreamListener\n",
    "\n",
    "# Replace the \"None\"s by your own credentials\n",
    "ACCESS_TOKEN = access_token\n",
    "ACCESS_TOKEN_SECRET = access_token_secret\n",
    "CONSUMER_KEY = consumer_key\n",
    "CONSUMER_SECRET = consumer_secret\n",
    "\n",
    "auth = OAuthHandler(CONSUMER_KEY, CONSUMER_SECRET)\n",
    "auth.set_access_token(ACCESS_TOKEN, ACCESS_TOKEN_SECRET)\n",
    "api = API(auth, wait_on_rate_limit=True,\n",
    "          wait_on_rate_limit_notify=True)\n",
    "\n",
    "class Listener(StreamListener):\n",
    "    def __init__(self, output_file=sys.stdout):\n",
    "        self.output_file = output_file\n",
    "        super(Listener,self).__init__()\n",
    "    def on_status(self, status):\n",
    "        hashtags = status.entities['hashtags']\n",
    "        \n",
    "        if len(hashtags) > 0:\n",
    "            publish_message(kafka_producer, topic_name, str(uuid.uuid4()), json.dumps(status._json))\n",
    "        #print(json.dumps(status._json), file=self.output_file)\n",
    "    def on_error(self, status_code):\n",
    "        print(status_code)\n",
    "        return False\n",
    "\n",
    "#For debugging the tweepy output to a file, uncomment the above print statement.\n",
    "output = open('stream_output.json', 'w+')\n",
    "listener = Listener(output_file=output)\n",
    "stream = Stream(auth=api.auth, listener=listener, tweet_mode= 'extended')\n",
    "\n",
    "try:\n",
    "    print('Start streaming.')\n",
    "    stream.filter(track=['Hong Kong'])\n",
    "except KeyboardInterrupt:\n",
    "    print(\"Stopped.\")\n",
    "finally:\n",
    "    print('Done.')\n",
    "    stream.disconnect()\n",
    "    output.close()"
   ]
  },
  {
   "cell_type": "code",
   "execution_count": null,
   "metadata": {},
   "outputs": [],
   "source": []
  }
 ],
 "metadata": {
  "kernelspec": {
   "display_name": "Python 3",
   "language": "python",
   "name": "python3"
  },
  "language_info": {
   "codemirror_mode": {
    "name": "ipython",
    "version": 3
   },
   "file_extension": ".py",
   "mimetype": "text/x-python",
   "name": "python",
   "nbconvert_exporter": "python",
   "pygments_lexer": "ipython3",
   "version": "3.6.8"
  }
 },
 "nbformat": 4,
 "nbformat_minor": 2
}
