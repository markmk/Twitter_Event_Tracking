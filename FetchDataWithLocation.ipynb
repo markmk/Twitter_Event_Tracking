{
 "cells": [
  {
   "cell_type": "code",
   "execution_count": 4,
   "metadata": {},
   "outputs": [],
   "source": [
    "import json\n",
    "\n",
    "with open('credentials.json') as f:\n",
    "    data = json.load(f)\n",
    "    cred = data[\"Credentials\"]\n",
    "    access_token = cred['ACCESS_TOKEN']\n",
    "    access_token_secret = cred['ACCESS_TOKEN_SECRET']\n",
    "    consumer_key = cred['CONSUMER_KEY']\n",
    "    consumer_secret = cred['CONSUMER_SECRET']\n"
   ]
  },
  {
   "cell_type": "code",
   "execution_count": null,
   "metadata": {},
   "outputs": [
    {
     "name": "stdout",
     "output_type": "stream",
     "text": [
      "Start streaming.\n"
     ]
    }
   ],
   "source": [
    "import sys\n",
    "\n",
    "from tweepy import OAuthHandler\n",
    "from tweepy import API\n",
    "from tweepy import Stream\n",
    "from tweepy.streaming import StreamListener\n",
    "\n",
    "# Replace the \"None\"s by your own credentials\n",
    "ACCESS_TOKEN = access_token\n",
    "ACCESS_TOKEN_SECRET = access_token_secret\n",
    "CONSUMER_KEY = consumer_key\n",
    "CONSUMER_SECRET = consumer_secret\n",
    "\n",
    "auth = OAuthHandler(CONSUMER_KEY, CONSUMER_SECRET)\n",
    "auth.set_access_token(ACCESS_TOKEN, ACCESS_TOKEN_SECRET)\n",
    "api = API(auth, wait_on_rate_limit=True,\n",
    "          wait_on_rate_limit_notify=True)\n",
    "\n",
    "\n",
    "class Listener(StreamListener):\n",
    "    def __init__(self, output_file=sys.stdout):\n",
    "        super(Listener,self).__init__()\n",
    "        self.output_file = output_file\n",
    "    def on_status(self, status):\n",
    "#         coordinates = status.coordinates\n",
    "        hashtags = status.entities['hashtags']\n",
    "        \n",
    "        if len(hashtags) > 0:\n",
    "            print(json.dumps(status._json), file=self.output_file)\n",
    "                \n",
    "    def on_error(self, status_code):\n",
    "        print(status_code)\n",
    "        return False\n",
    "    \n",
    "    \n",
    "\n",
    "output = open('stream_output_oct25.json', 'w')\n",
    "listener = Listener(output_file=output)\n",
    "\n",
    "stream = Stream(auth=api.auth, listener=listener)\n",
    "try:\n",
    "    print('Start streaming.')\n",
    "    stream.filter(track=['Hong Kong'])\n",
    "    stream.sample()\n",
    "except KeyboardInterrupt:\n",
    "    print(\"Stopped.\")\n",
    "finally:\n",
    "    print('Done.')\n",
    "    stream.disconnect()\n",
    "    output.close()"
   ]
  },
  {
   "cell_type": "code",
   "execution_count": null,
   "metadata": {},
   "outputs": [],
   "source": []
  }
 ],
 "metadata": {
  "kernelspec": {
   "display_name": "Python 3",
   "language": "python",
   "name": "python3"
  },
  "language_info": {
   "codemirror_mode": {
    "name": "ipython",
    "version": 3
   },
   "file_extension": ".py",
   "mimetype": "text/x-python",
   "name": "python",
   "nbconvert_exporter": "python",
   "pygments_lexer": "ipython3",
   "version": "3.7.4"
  }
 },
 "nbformat": 4,
 "nbformat_minor": 2
}
